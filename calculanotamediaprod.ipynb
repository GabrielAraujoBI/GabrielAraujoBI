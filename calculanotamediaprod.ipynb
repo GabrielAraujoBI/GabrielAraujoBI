{
  "nbformat": 4,
  "nbformat_minor": 0,
  "metadata": {
    "colab": {
      "provenance": [],
      "authorship_tag": "ABX9TyMkF6p5ePF8O2XA+R7C1EKn",
      "include_colab_link": true
    },
    "kernelspec": {
      "name": "python3",
      "display_name": "Python 3"
    },
    "language_info": {
      "name": "python"
    }
  },
  "cells": [
    {
      "cell_type": "markdown",
      "metadata": {
        "id": "view-in-github",
        "colab_type": "text"
      },
      "source": [
        "<a href=\"https://colab.research.google.com/github/GabrielAraujoBI/GabrielAraujoBI/blob/main/calculanotamediaprod.ipynb\" target=\"_parent\"><img src=\"https://colab.research.google.com/assets/colab-badge.svg\" alt=\"Open In Colab\"/></a>"
      ]
    },
    {
      "cell_type": "markdown",
      "source": [
        "# **V2 Teste Git x Colab**"
      ],
      "metadata": {
        "id": "xduxSYdUXDzo"
      }
    },
    {
      "cell_type": "code",
      "execution_count": null,
      "metadata": {
        "colab": {
          "base_uri": "https://localhost:8080/"
        },
        "id": "7j1wFtBdMC91",
        "outputId": "48b4dbc7-7324-45db-b0f5-8568e9bebfc2"
      },
      "outputs": [
        {
          "output_type": "stream",
          "name": "stdout",
          "text": [
            "  Calcula o valor médio de avaliação do produto   \n",
            "Digite a primeira nota avaliada do produto pelo cliente: 10\n",
            "Digite a segunda nota avaliada do produto pelo cliente: 7\n",
            "Digite a terceira nota avaliada do produto pelo cliente: 8\n",
            "A média alcançada foi: 8.333333333333334\n",
            "Parabéns, produto adequado aos clientes!\n"
          ]
        }
      ],
      "source": [
        "titulo = \"Calcula o valor médio de avaliação do produto\"\n",
        "print(f'{titulo:^50}')\n",
        "\n",
        "nota1 = int(input(\"Digite a primeira nota avaliada do produto pelo cliente: \"))\n",
        "\n",
        "nota2 = int(input(\"Digite a segunda nota avaliada do produto pelo cliente: \"))\n",
        "\n",
        "nota3 = int(input(\"Digite a terceira nota avaliada do produto pelo cliente: \"))\n",
        "\n",
        "media = (float(nota1) + float(nota2) + float(nota3))/3\n",
        "\n",
        "print(\"A média alcançada foi: %s\" % media)\n",
        "\n",
        "if media > 6:\n",
        "    print(\"Parabéns, produto adequado aos clientes!\")\n",
        "else:\n",
        "    print(\"Que pena, esse produto inadequado e com muitas reclamações!\")\n",
        "\n"
      ]
    }
  ]
}